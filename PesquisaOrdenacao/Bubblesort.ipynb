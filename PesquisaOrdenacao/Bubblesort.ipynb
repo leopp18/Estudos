{
  "nbformat": 4,
  "nbformat_minor": 0,
  "metadata": {
    "colab": {
      "name": "Bubblesort.ipynb",
      "provenance": [],
      "collapsed_sections": [],
      "authorship_tag": "ABX9TyP3FRZkJIwCetJj3g4+Ykug"
    },
    "kernelspec": {
      "name": "python3",
      "display_name": "Python 3"
    },
    "language_info": {
      "name": "python"
    }
  },
  "cells": [
    {
      "cell_type": "code",
      "execution_count": 2,
      "metadata": {
        "colab": {
          "base_uri": "https://localhost:8080/"
        },
        "id": "ZyQG_7iZeMCG",
        "outputId": "847463bc-76c3-44d2-8e23-780b9ef7c41c"
      },
      "outputs": [
        {
          "output_type": "stream",
          "name": "stdout",
          "text": [
            "mirkos\n",
            "0 Lucas 5\n",
            "1 Pedro 5\n",
            "2 Carlos 6\n",
            "3 Leonardo 8\n",
            "4 Mirkos 6\n"
          ]
        }
      ],
      "source": [
        "#vetores\n",
        "nomesAlunos = ['Lucas', 'Pedro', 'Carlos', 'Leonardo', 'mirkos']\n",
        "print(nomesAlunos[len(nomesAlunos)-1]) #utilização de colchetes\n",
        "indice = 0\n",
        "for aluno in nomesAlunos:\n",
        "    nomesAlunos[indice] = aluno.title()\n",
        "    print(indice, nomesAlunos[indice], len(aluno))\n",
        "    indice+=1"
      ]
    },
    {
      "cell_type": "code",
      "source": [
        "#bubblesort, jogar o maior pro final\n",
        "tam = len(nomesAlunos)-1\n",
        "aux = 0\n",
        "aux2 = 0\n",
        "while aux2 < tam:\n",
        "    while aux < tam:\n",
        "        if nomesAlunos[aux] > nomesAlunos[aux+1]:\n",
        "            print('trocando: ', nomesAlunos[aux], nomesAlunos[aux+1])\n",
        "            auxiliar = nomesAlunos[aux+1]\n",
        "            nomesAlunos[aux+1] = nomesAlunos[aux]\n",
        "            nomesAlunos[aux] = auxiliar\n",
        "        aux+=1\n",
        "    aux = 0\n",
        "    aux2+=1\n",
        "print(nomesAlunos)"
      ],
      "metadata": {
        "colab": {
          "base_uri": "https://localhost:8080/"
        },
        "id": "FbdDErureekU",
        "outputId": "f9b65edf-c4ae-4c75-b669-4e3eb817c7d8"
      },
      "execution_count": 3,
      "outputs": [
        {
          "output_type": "stream",
          "name": "stdout",
          "text": [
            "trocando:  Pedro Carlos\n",
            "trocando:  Pedro Leonardo\n",
            "trocando:  Pedro Mirkos\n",
            "trocando:  Lucas Carlos\n",
            "trocando:  Lucas Leonardo\n",
            "['Carlos', 'Leonardo', 'Lucas', 'Mirkos', 'Pedro']\n"
          ]
        }
      ]
    }
  ]
}
