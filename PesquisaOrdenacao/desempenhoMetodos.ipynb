{
  "nbformat": 4,
  "nbformat_minor": 0,
  "metadata": {
    "colab": {
      "provenance": [],
      "authorship_tag": "ABX9TyPV0/K+c2eadS06+9tIxa9+"
    },
    "kernelspec": {
      "name": "python3",
      "display_name": "Python 3"
    },
    "language_info": {
      "name": "python"
    }
  },
  "cells": [
    {
      "cell_type": "code",
      "execution_count": 2,
      "metadata": {
        "colab": {
          "base_uri": "https://localhost:8080/"
        },
        "id": "WFztCKL3UJYJ",
        "outputId": "88c5d640-3b82-4723-e012-97ebc3399420"
      },
      "outputs": [
        {
          "output_type": "stream",
          "name": "stdout",
          "text": [
            "Bubblesort: 0:00:06.224503\n",
            "Shellsort: 0:00:27.926946\n",
            "Shakersort: 0:00:11.674562\n",
            "Combsort: 0:00:00.032513\n"
          ]
        }
      ],
      "source": [
        "import datetime\n",
        "import time\n",
        "from random import randint\n",
        "\n",
        "def bubble(vetor):\n",
        "    tam = len(vetor)\n",
        "    indice=0\n",
        "    while indice < tam:\n",
        "        i=0\n",
        "        while i<(tam-1):\n",
        "            if vetor[i]>vetor[i+1]:\n",
        "                vetor[i],vetor[i+1]=vetor[i+1],vetor[i]\n",
        "            i+=1\n",
        "        indice+=1\n",
        "    return vetor\n",
        "\n",
        "def shell(vetor):\n",
        "    n = len(vetor)\n",
        "    gap = int(n/2)\n",
        "    while gap >= 1:\n",
        "        indice = 0\n",
        "        while indice + gap < n:\n",
        "            if vetor[indice] > vetor[indice+gap]:\n",
        "                vetor[indice], vetor[indice+gap] = vetor[indice+gap], vetor[indice]\n",
        "                indice = -1\n",
        "            indice += 1\n",
        "        gap = int(gap/2)\n",
        "    return vetor\n",
        "\n",
        "def shaker(vetor):\n",
        "  indice=0\n",
        "  ultimo=len(vetor)\n",
        "  while indice < ultimo-1:\n",
        "      while indice < len(vetor)-1:#anda ate o penultimo\n",
        "            if vetor[indice]>vetor[indice+1]:#troca na subida\n",
        "                vetor[indice], vetor[indice+1] = vetor[indice+1], vetor[indice]\n",
        "            indice += 1 \n",
        "      while indice >=1:\n",
        "            if vetor[indice]<vetor[indice-1]:#troca na descida\n",
        "                vetor[indice], vetor[indice-1] = vetor[indice-1], vetor[indice]\n",
        "            indice -= 1\n",
        "      indice = 0\n",
        "      ultimo = ultimo-1\n",
        "  return vetor\n",
        "\n",
        "def comb(vetor):\n",
        "    n = len(vetor)\n",
        "    gap = int(n/1.3)\n",
        "    indice = 0\n",
        "    swapped = True\n",
        "    while swapped == True:\n",
        "        swapped = False    \n",
        "        while indice < (n - gap):\n",
        "            if vetor[indice] > vetor[indice+gap]:\n",
        "                vetor[indice], vetor[indice+gap] = vetor[indice+gap], vetor[indice]\n",
        "                swapped = True\n",
        "            indice += 1\n",
        "        indice = 0\n",
        "        gap = int(gap/1.3)\n",
        "    return vetor\n",
        "\n",
        "def iniciaVetor(tamanho):\n",
        "    vet = []\n",
        "    for i in range(tamanho):\n",
        "        vet.append(randint(0,tamanho*2))\n",
        "    return vet\n",
        "\n",
        "v = iniciaVetor(5000)\n",
        "v1 = v.copy()\n",
        "v2 = v.copy()\n",
        "v3 = v.copy()\n",
        "\n",
        "ini = datetime.datetime.now()\n",
        "v = bubble(v)#metodo\n",
        "fim = datetime.datetime.now()\n",
        "print('Bubblesort:', fim-ini)\n",
        "\n",
        "ini = datetime.datetime.now()\n",
        "v1 = shell(v1)#metodo\n",
        "fim = datetime.datetime.now()\n",
        "print('Shellsort:', fim-ini)\n",
        "\n",
        "ini = datetime.datetime.now()\n",
        "v2 = shaker(v2)#metodo\n",
        "fim = datetime.datetime.now()\n",
        "print('Shakersort:', fim-ini)\n",
        "\n",
        "ini = datetime.datetime.now()\n",
        "v3 = comb(v3)#metodo\n",
        "fim = datetime.datetime.now()\n",
        "print('Combsort:', fim-ini)"
      ]
    }
  ]
}
