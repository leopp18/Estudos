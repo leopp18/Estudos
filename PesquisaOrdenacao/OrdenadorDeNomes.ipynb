{
  "nbformat": 4,
  "nbformat_minor": 0,
  "metadata": {
    "colab": {
      "provenance": [],
      "authorship_tag": "ABX9TyMirH5bX72+sVaTGv7V9MJo"
    },
    "kernelspec": {
      "name": "python3",
      "display_name": "Python 3"
    },
    "language_info": {
      "name": "python"
    }
  },
  "cells": [
    {
      "cell_type": "code",
      "execution_count": null,
      "metadata": {
        "colab": {
          "base_uri": "https://localhost:8080/"
        },
        "id": "E4wbp0HrRpEn",
        "outputId": "4637287b-33f9-4a79-d1e2-c8342f3b3b5a"
      },
      "outputs": [
        {
          "name": "stdout",
          "output_type": "stream",
          "text": [
            "Digite o nome: leo\n",
            "['LEO']\n",
            "Digite o nome: luiza\n",
            "['LEO', 'LUIZA']\n",
            "Digite o nome: dani\n",
            "['DANI', 'LEO', 'LUIZA']\n",
            "Digite o nome: sair\n"
          ]
        }
      ],
      "source": [
        "nomesVet = []\n",
        "nome = \"\"\n",
        "while nome!= \"SAIR\":\n",
        "    nome = input('Digite o nome: ').upper()\n",
        "    if nome == \"SAIR\":\n",
        "        break\n",
        "    nomesVet.append(nome)\n",
        "    tam = len(nomesVet)-1\n",
        "    aux = 0\n",
        "    aux2 = 0\n",
        "    while aux2 < tam:\n",
        "        while aux < tam:\n",
        "            if nomesVet[aux] > nomesVet[aux+1]:\n",
        "                nomesVet[aux+1], nomesVet[aux] = nomesVet[aux], nomesVet[aux+1]\n",
        "            aux+=1\n",
        "        aux = 0\n",
        "        aux2+=1\n",
        "    print(nomesVet)\n"
      ]
    }
  ]
}
