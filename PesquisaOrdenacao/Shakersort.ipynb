{
  "nbformat": 4,
  "nbformat_minor": 0,
  "metadata": {
    "colab": {
      "name": "shakersort.ipynb",
      "provenance": [],
      "collapsed_sections": [],
      "authorship_tag": "ABX9TyPhrCOQzeiaP+eKJHTjosvN"
    },
    "kernelspec": {
      "name": "python3",
      "display_name": "Python 3"
    },
    "language_info": {
      "name": "python"
    }
  },
  "cells": [
    {
      "cell_type": "markdown",
      "source": [
        "<h2>Shakersort</h2>\n",
        "Aula 03 na disciplina de Métodos de Pesquisa e Ordenação"
      ],
      "metadata": {
        "id": "9hHEVZYD70K0"
      }
    },
    {
      "cell_type": "code",
      "execution_count": null,
      "metadata": {
        "colab": {
          "base_uri": "https://localhost:8080/"
        },
        "id": "--sn5QXD7zRK",
        "outputId": "5ef0856c-1ee6-44db-c5c1-b3004acd147b"
      },
      "outputs": [
        {
          "output_type": "stream",
          "name": "stdout",
          "text": [
            "[13, 15, 17, 18, 24, 29, 33, 35, 42, 77, 91, 98]\n"
          ]
        }
      ],
      "source": [
        "def shakersort(lista):\n",
        "  indice=0\n",
        "  ultimo=len(lista)\n",
        "  while indice < ultimo-1:\n",
        "      while indice < len(lista)-1:#anda ate o penultimo\n",
        "            if lista[indice]>lista[indice+1]:#troca na subida\n",
        "                lista[indice], lista[indice+1] = lista[indice+1], lista[indice]\n",
        "            indice += 1 #incrementa o indice\n",
        "      #sai do while para a direita interno\n",
        "      while indice >=1:\n",
        "            if lista[indice]<lista[indice-1]:#troca na descida\n",
        "                lista[indice], lista[indice-1] = lista[indice-1], lista[indice]\n",
        "            indice -= 1\n",
        "      indice = 0\n",
        "      ultimo = ultimo-1\n",
        "  return lista\n",
        "\n",
        "vector = [77, 98, 17, 33, 42, 13, 18, 24, 35, 29, 91, 15]\n",
        "shakersort(vector)\n",
        "print(vector)"
      ]
    }
  ]
}
