{
  "nbformat": 4,
  "nbformat_minor": 0,
  "metadata": {
    "colab": {
      "name": "shellsort.ipynb",
      "provenance": [],
      "collapsed_sections": [],
      "authorship_tag": "ABX9TyPBCgKxKWBr9L5p3jRUIVBI"
    },
    "kernelspec": {
      "name": "python3",
      "display_name": "Python 3"
    },
    "language_info": {
      "name": "python"
    }
  },
  "cells": [
    {
      "cell_type": "markdown",
      "source": [
        "<h2> Aula 02 </h2>\n",
        "Disciplina de Métodos de Pesquisa e Ordenação. Método de shellsort\n"
      ],
      "metadata": {
        "id": "lHVF1j3F8Lwt"
      }
    },
    {
      "cell_type": "code",
      "execution_count": 1,
      "metadata": {
        "colab": {
          "base_uri": "https://localhost:8080/"
        },
        "id": "bsD5aclF8Cuv",
        "outputId": "56a186c6-67cc-4b92-a029-a06bdbf92f73"
      },
      "outputs": [
        {
          "output_type": "stream",
          "name": "stdout",
          "text": [
            "[13, 15, 17, 18, 24, 29, 33, 35, 42, 77, 91, 98]\n"
          ]
        }
      ],
      "source": [
        "#funcao em python\n",
        "def shell(lista):\n",
        "    n = len(lista)\n",
        "    gap = int(n/2)\n",
        "    while gap >= 1:\n",
        "        indice = 0\n",
        "        while indice + gap < n:\n",
        "            if lista[indice] > lista[indice+gap]:\n",
        "                #aux = lista[indice+gap]\n",
        "                #lista[indice+gap] = lista[indice]\n",
        "                #lista[indice] = aux\n",
        "                lista[indice], lista[indice+gap] = lista[indice+gap], lista[indice]\n",
        "                indice = -1\n",
        "            indice += 1\n",
        "        #print('O gap está em', gap)\n",
        "        gap = int(gap/2)\n",
        "\n",
        "\n",
        "numeros = [77, 98, 17, 33, 42, 13, 18, 24, 35, 29, 91, 15]\n",
        "shell(numeros)\n",
        "print(numeros)"
      ]
    }
  ]
}
