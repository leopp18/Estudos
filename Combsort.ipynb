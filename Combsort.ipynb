{
  "nbformat": 4,
  "nbformat_minor": 0,
  "metadata": {
    "colab": {
      "provenance": [],
      "authorship_tag": "ABX9TyN6PezyxGs/mcYt9mnBapko"
    },
    "kernelspec": {
      "name": "python3",
      "display_name": "Python 3"
    },
    "language_info": {
      "name": "python"
    }
  },
  "cells": [
    {
      "cell_type": "code",
      "execution_count": 5,
      "metadata": {
        "colab": {
          "base_uri": "https://localhost:8080/"
        },
        "id": "vVSnRsT8B3gJ",
        "outputId": "a10ea0a2-845c-4094-8e6a-0c1ddc35a4fc"
      },
      "outputs": [
        {
          "output_type": "stream",
          "name": "stdout",
          "text": [
            "[59, 5, 18, 68, 70, 73, 81, 49, 47, 63]\n",
            "[5, 18, 47, 49, 59, 63, 68, 70, 73, 81]\n"
          ]
        }
      ],
      "source": [
        "from random import randint\n",
        "\n",
        "def comb(lista):\n",
        "    n = len(lista)\n",
        "    gap = int(n/1.3)\n",
        "    indice = 0\n",
        "    swapped = True\n",
        "    while swapped == True:\n",
        "        swapped = False    \n",
        "        while indice < (n - gap):\n",
        "            if lista[indice] > lista[indice+gap]:\n",
        "                lista[indice], lista[indice+gap] = lista[indice+gap], lista[indice]\n",
        "                swapped = True\n",
        "            indice += 1\n",
        "        indice = 0\n",
        "        gap = int(gap/1.3)\n",
        "\n",
        "lista = []\n",
        "for i in range(10):\n",
        "    lista.append(randint(1,100))\n",
        "print(lista)\n",
        "comb(lista)\n",
        "print(lista)"
      ]
    }
  ]
}